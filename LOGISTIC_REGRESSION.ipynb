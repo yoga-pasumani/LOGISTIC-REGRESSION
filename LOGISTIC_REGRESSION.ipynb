{
  "nbformat": 4,
  "nbformat_minor": 0,
  "metadata": {
    "colab": {
      "private_outputs": true,
      "provenance": [],
      "authorship_tag": "ABX9TyMAm+7bg35YC1dW8v8ZD2Hn",
      "include_colab_link": true
    },
    "kernelspec": {
      "name": "python3",
      "display_name": "Python 3"
    },
    "language_info": {
      "name": "python"
    }
  },
  "cells": [
    {
      "cell_type": "markdown",
      "metadata": {
        "id": "view-in-github",
        "colab_type": "text"
      },
      "source": [
        "<a href=\"https://colab.research.google.com/github/yoga-pasumani/LOGISTIC-REGRESSION/blob/LOGISTIC-REGRESSION/LOGISTIC_REGRESSION.ipynb\" target=\"_parent\"><img src=\"https://colab.research.google.com/assets/colab-badge.svg\" alt=\"Open In Colab\"/></a>"
      ]
    },
    {
      "cell_type": "code",
      "execution_count": null,
      "metadata": {
        "id": "FeCUQW8qm1K_"
      },
      "outputs": [],
      "source": [
        "import numpy as np  #for numerical operations\n",
        "import pandas as pd #for data manipulation & handling\n",
        "from sklearn.model_selection import train_test_split\n",
        "from sklearn.linear_model import LogisticRegression\n",
        "from sklearn.metrics import accuracy_score, confusion_matrix, classification_report\n"
      ]
    },
    {
      "cell_type": "code",
      "source": [
        "data = pd.read_csv(\"/content/fitness_dataset.csv\")\n",
        "data"
      ],
      "metadata": {
        "id": "F8mPlXZKp55D"
      },
      "execution_count": null,
      "outputs": []
    },
    {
      "cell_type": "code",
      "source": [
        "data.info()"
      ],
      "metadata": {
        "id": "LCy74_BhrV7U"
      },
      "execution_count": null,
      "outputs": []
    },
    {
      "cell_type": "code",
      "source": [
        "from sklearn.preprocessing import LabelEncoder\n",
        "\n",
        "label_encoder = LabelEncoder()\n",
        "data['gender'] = label_encoder.fit_transform(data['gender'])\n",
        "data"
      ],
      "metadata": {
        "id": "FZGfVXTWkc-X"
      },
      "execution_count": null,
      "outputs": []
    },
    {
      "cell_type": "code",
      "source": [
        "data.head(10)"
      ],
      "metadata": {
        "id": "dWDlfo0dkpnq"
      },
      "execution_count": null,
      "outputs": []
    },
    {
      "cell_type": "code",
      "source": [
        "data.describe()"
      ],
      "metadata": {
        "id": "UvlPLhFjk6DI"
      },
      "execution_count": null,
      "outputs": []
    },
    {
      "cell_type": "code",
      "source": [
        "data.tail(10)"
      ],
      "metadata": {
        "id": "7T6cIbvKlAoO"
      },
      "execution_count": null,
      "outputs": []
    },
    {
      "cell_type": "code",
      "source": [
        "data.isnull().sum()"
      ],
      "metadata": {
        "id": "Ul5H53eZmCaf"
      },
      "execution_count": null,
      "outputs": []
    },
    {
      "cell_type": "code",
      "source": [
        "data['sleep_hours'].fillna(data['sleep_hours'].mean(),inplace=True)\n",
        "data"
      ],
      "metadata": {
        "id": "5wEe5SohmGJA"
      },
      "execution_count": null,
      "outputs": []
    },
    {
      "cell_type": "code",
      "source": [
        "data['sleep_hours'] = data['sleep_hours'].fillna(data['sleep_hours'].mean())\n",
        "data['sleep_hours'] = data['sleep_hours'].round().astype(int)\n",
        "data           #instead of using float values we can convert this to round values\n"
      ],
      "metadata": {
        "id": "3kpTF590ma2_"
      },
      "execution_count": null,
      "outputs": []
    },
    {
      "cell_type": "code",
      "source": [
        "label_encoder=label_encoder\n",
        "data['smokes'] = label_encoder.fit_transform(data['smokes'])\n",
        "data"
      ],
      "metadata": {
        "id": "3vsA48Pync2-"
      },
      "execution_count": null,
      "outputs": []
    },
    {
      "cell_type": "code",
      "source": [
        "data['smokes']"
      ],
      "metadata": {
        "id": "tvong42un2EU"
      },
      "execution_count": null,
      "outputs": []
    },
    {
      "cell_type": "code",
      "source": [
        "data['smokes'] = data['smokes'].astype(int)\n"
      ],
      "metadata": {
        "id": "5kcJpdrboFLw"
      },
      "execution_count": null,
      "outputs": []
    },
    {
      "cell_type": "code",
      "source": [
        "data['smoker_binary'] = data['smokes'].apply(lambda x: 0 if x==0 else 1)\n",
        "data[['smoker_binary','sleep_hours']].corr()\n"
      ],
      "metadata": {
        "id": "_G36IDQSoS0G"
      },
      "execution_count": null,
      "outputs": []
    },
    {
      "cell_type": "code",
      "source": [
        "import seaborn as sns\n",
        "import matplotlib.pyplot as plt\n",
        "\n",
        "plt.figure(figsize=(10,8))\n",
        "sns.barplot(x='smokes', y='sleep_hours', data=data, color='orange')  # sns.barplot, not plt.barplot\n",
        "plt.title('diff bt gender and sleephours')\n",
        "plt.show()\n"
      ],
      "metadata": {
        "id": "bvkiz44ioc99"
      },
      "execution_count": null,
      "outputs": []
    },
    {
      "cell_type": "code",
      "source": [
        "data['smokes'].corr(data['sleep_hours'])\n"
      ],
      "metadata": {
        "id": "VhBS-PIaphGN"
      },
      "execution_count": null,
      "outputs": []
    },
    {
      "cell_type": "code",
      "source": [
        "import seaborn as sns\n",
        "import matplotlib.pyplot as plt\n",
        "\n",
        "sns.barplot(x='smokes', y='sleep_hours', data=data, color='orange')\n",
        "plt.title('Average Sleep Hours: Smokers vs Non-Smokers')\n",
        "plt.show()\n"
      ],
      "metadata": {
        "id": "4mGlkZ7MqWbJ"
      },
      "execution_count": null,
      "outputs": []
    },
    {
      "cell_type": "code",
      "source": [
        "import seaborn as sns\n",
        "import matplotlib.pyplot as plt\n",
        "\n",
        "sns.boxplot(x='is_fit', y='age', data=data)\n",
        "plt.show()\n"
      ],
      "metadata": {
        "id": "SmEYRMyHq_ye"
      },
      "execution_count": null,
      "outputs": []
    },
    {
      "cell_type": "code",
      "source": [
        "X = data[['age','sleep_hours','smokes','activity_index']]\n",
        "y = data['is_fit']\n"
      ],
      "metadata": {
        "id": "J_0YBxXvrs7Z"
      },
      "execution_count": null,
      "outputs": []
    },
    {
      "cell_type": "code",
      "source": [
        "# Check average value of each feature by fit/not fit\n",
        "data.groupby['is_fit']['age','sleep_hours','weight_kg','activity_index'].mean()\n"
      ],
      "metadata": {
        "id": "sTr-MjZCrwVe"
      },
      "execution_count": null,
      "outputs": []
    },
    {
      "cell_type": "code",
      "source": [
        "import seaborn as sns\n",
        "sns.boxplot(x='is_fit', y='age', data=data)\n"
      ],
      "metadata": {
        "id": "NsBd-o-2r3v1"
      },
      "execution_count": null,
      "outputs": []
    },
    {
      "cell_type": "code",
      "source": [
        "import seaborn as sns\n",
        "import matplotlib.pyplot as plt\n",
        "\n",
        "numeric_cols = ['age','height_cm','weight_kg','heart_rate','blood_pressure','sleep_hours','nutrition_quality','activity_index']\n",
        "\n",
        "for col in numeric_cols:\n",
        "    plt.figure(figsize=(6,3))\n",
        "    sns.histplot(data[col], kde=True)\n",
        "    plt.title(f'Distribution of {col}')\n",
        "    plt.show()\n"
      ],
      "metadata": {
        "id": "qOB075-KsI9l"
      },
      "execution_count": null,
      "outputs": []
    },
    {
      "cell_type": "code",
      "source": [
        "categorical_cols = ['smokes','gender']\n",
        "\n",
        "for col in categorical_cols:\n",
        "    plt.figure(figsize=(6,3))\n",
        "    sns.barplot(x=col, y='is_fit', data=data)\n",
        "    plt.title(f'{col} vs is_fit')\n",
        "    plt.show()\n"
      ],
      "metadata": {
        "id": "6e0axOSDsQkd"
      },
      "execution_count": null,
      "outputs": []
    },
    {
      "cell_type": "code",
      "source": [
        "sns.histplot(data['age'], kde=True)\n",
        "plt.title('Distribution of Age')\n",
        "plt.show()"
      ],
      "metadata": {
        "id": "zjcERNZQsXRf"
      },
      "execution_count": null,
      "outputs": []
    },
    {
      "cell_type": "code",
      "source": [
        "sns.countplot(x='smokes', data=data)\n",
        "plt.title('Count of Smoking Levels')\n",
        "plt.show()\n"
      ],
      "metadata": {
        "id": "hjnP0DDHs8_e"
      },
      "execution_count": null,
      "outputs": []
    },
    {
      "cell_type": "code",
      "source": [
        "sns.countplot(x='gender', data=data)\n",
        "plt.title('Count of Gender')\n",
        "plt.show()"
      ],
      "metadata": {
        "id": "VC-MavbFtCWZ"
      },
      "execution_count": null,
      "outputs": []
    },
    {
      "cell_type": "code",
      "source": [
        "sns.boxplot(x='is_fit', y='age', data=data,color='Pink')\n",
        "plt.title('Age vs Fit/Not Fit')\n",
        "plt.show()"
      ],
      "metadata": {
        "id": "_r_ltrmJtGEx"
      },
      "execution_count": null,
      "outputs": []
    },
    {
      "cell_type": "code",
      "source": [
        "sns.boxplot(x='is_fit', y='sleep_hours', data=data,color='Pink')\n",
        "plt.title('Sleep Hours vs Fit/Not Fit')\n",
        "plt.show()"
      ],
      "metadata": {
        "id": "T7whKt-5tQh-"
      },
      "execution_count": null,
      "outputs": []
    },
    {
      "cell_type": "code",
      "source": [
        "sns.catplot(x='smokes', y='sleep_hours', hue='is_fit', kind='bar', data=data)\n",
        "plt.title('Sleep Hours vs Smoking colored by Fit/Not Fit')\n",
        "plt.show()"
      ],
      "metadata": {
        "id": "1wxe7Dm0GQHC"
      },
      "execution_count": null,
      "outputs": []
    },
    {
      "cell_type": "code",
      "source": [
        "numeric_cols = ['age','height_cm','weight_kg','heart_rate','blood_pressure','sleep_hours','nutrition_quality','activity_index']\n",
        "\n",
        "plt.figure(figsize=(10,8))\n",
        "sns.heatmap(data[numeric_cols + ['is_fit']].corr(), annot=True, cmap='coolwarm')\n",
        "plt.title('Correlation Heatmap')\n",
        "plt.show()"
      ],
      "metadata": {
        "id": "60zSwFCEG7cn"
      },
      "execution_count": null,
      "outputs": []
    },
    {
      "cell_type": "code",
      "source": [
        "# Step 2: Features (X) and Target (y)\n",
        "X = data[['age','height_cm','weight_kg','heart_rate','blood_pressure',\n",
        "          'sleep_hours','nutrition_quality','activity_index','smokes','gender']]\n",
        "y = data['is_fit']"
      ],
      "metadata": {
        "id": "hf4xeA9FKLEU"
      },
      "execution_count": null,
      "outputs": []
    },
    {
      "cell_type": "code",
      "source": [
        "from sklearn.preprocessing import StandardScaler\n",
        "scaler = StandardScaler()\n",
        "X_train = scaler.fit_transform(X_train)\n",
        "X_test = scaler.transform(X_test)"
      ],
      "metadata": {
        "id": "QZS4wbFINPfB"
      },
      "execution_count": null,
      "outputs": []
    },
    {
      "cell_type": "code",
      "source": [
        "X_train, X_test, y_train, y_test = train_test_split(X, y, test_size=0.2, random_state=42)\n"
      ],
      "metadata": {
        "id": "WTw6mphQKVLK"
      },
      "execution_count": null,
      "outputs": []
    },
    {
      "cell_type": "code",
      "source": [
        "# Step 1: Clean missing values\n",
        "data = data.dropna()\n",
        "\n",
        "# Step 2: Redefine X and y\n",
        "X = data[['age','height_cm','weight_kg','heart_rate','blood_pressure',\n",
        "          'sleep_hours','nutrition_quality','activity_index','smokes','gender']]\n",
        "y = data['is_fit']\n",
        "\n"
      ],
      "metadata": {
        "id": "TL3OU2DAKXtp"
      },
      "execution_count": null,
      "outputs": []
    },
    {
      "cell_type": "code",
      "source": [
        "model = LogisticRegression(max_iter=1000, class_weight='balanced')\n"
      ],
      "metadata": {
        "id": "4n43VvrfNcTu"
      },
      "execution_count": null,
      "outputs": []
    },
    {
      "cell_type": "code",
      "source": [
        "from sklearn.impute import SimpleImputer\n",
        "\n",
        "# Define features again\n",
        "X = data[['age','height_cm','weight_kg','heart_rate','blood_pressure',\n",
        "          'sleep_hours','nutrition_quality','activity_index','smokes','gender']]\n",
        "y = data['is_fit']\n",
        "\n",
        "# Fill NaN with column mean\n",
        "imputer = SimpleImputer(strategy='mean')\n",
        "X = imputer.fit_transform(X)\n"
      ],
      "metadata": {
        "id": "ny8KrMvoKZ5Z"
      },
      "execution_count": null,
      "outputs": []
    },
    {
      "cell_type": "code",
      "source": [
        "from sklearn.model_selection import train_test_split\n",
        "from sklearn.linear_model import LogisticRegression\n",
        "from sklearn.metrics import accuracy_score, confusion_matrix, classification_report\n",
        "\n",
        "X_train, X_test, y_train, y_test = train_test_split(X, y, test_size=0.2, random_state=42)\n",
        "\n",
        "model = LogisticRegression(max_iter=1000)\n",
        "model.fit(X_train, y_train)\n",
        "\n",
        "y_pred = model.predict(X_test)\n",
        "\n",
        "print(\"Accuracy:\", accuracy_score(y_test, y_pred))\n",
        "print(\"\\nConfusion Matrix:\\n\", confusion_matrix(y_test, y_pred))\n",
        "print(\"\\nClassification Report:\\n\", classification_report(y_test, y_pred))\n"
      ],
      "metadata": {
        "id": "bSi6n3YEKwMP"
      },
      "execution_count": null,
      "outputs": []
    },
    {
      "cell_type": "code",
      "source": [],
      "metadata": {
        "id": "4rf3g2GuLBze"
      },
      "execution_count": null,
      "outputs": []
    }
  ]
}